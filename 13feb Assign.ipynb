{
 "cells": [
  {
   "cell_type": "markdown",
   "id": "79213317",
   "metadata": {},
   "source": [
    "Ans 1:\n",
    "\n",
    "The reason why we use the Exception class while creating a custom exception is that it provides a standard set of methods and attributes that all exceptions should have. For example, it provides methods to get the error message, to get the stack trace, and to print the exception information. By extending the Exception class, we inherit all these methods and attributes and can use them in our custom exception.\n",
    "\n",
    "Exception class while creating a custom exception provides a consistent interface, inherits useful methods and attributes, and makes it easier for other developers to handle our exception."
   ]
  },
  {
   "cell_type": "markdown",
   "id": "6b076a27",
   "metadata": {},
   "source": [
    "Ans 2:\n",
    "\n",
    "def print_exception_hierarchy(exception_class, level=0):\n",
    "    print(\"  \" * level + exception_class.__name__)\n",
    "    for subclass in exception_class.__subclasses__():\n",
    "        print_exception_hierarchy(subclass, level + 1)\n",
    "\n",
    "print_exception_hierarchy(Exception)\n"
   ]
  },
  {
   "cell_type": "markdown",
   "id": "aed89614",
   "metadata": {},
   "source": [
    "Ans 3:\n",
    "\n",
    "The ArithmeticError is a built-in exception class in Python that serves as a base class for various arithmetic-related errors. Some of the errors that are defined in the ArithmeticError class include ZeroDivisionError, FloatingPointError, and OverflowError\n",
    "\n",
    "1.ZeroDivisionError: This error occurs when we try to divide a number by zero.\n",
    "\n",
    "import logging\n",
    "logging.basicConfig(filename=\"error1.log\",level=logging.ERROR)\n",
    "try:\n",
    "    x = 10\n",
    "    y = 0\n",
    "    z = x / y\n",
    "    print(z)\n",
    "except ZeroDivisionError as e:\n",
    "    logging.error(\"Caught an error:{}\".format(e))\n",
    "\n",
    "When we run this code, we will get a ZeroDivisionError with the message \"division by zero\". This error can be caught and handled using a try-except block.This will catch the ZeroDivisionError and print a custom error message instead of the default one.\n",
    "\n",
    "2.FloatingPointError: This error occurs when a floating-point operation results in an overflow or underflow condition. \n",
    "\n",
    "import math\n",
    "import logging\n",
    "logging.basicConfig(filename=\"error1.log\",level=logging.ERROR)\n",
    "try:\n",
    "    x = 1e100\n",
    "    y = math.exp(x)\n",
    "    print(y)\n",
    "except FloatingPointError as e:\n",
    "    logging.error(\"Caught an error:{}\".format(e))\n",
    "    \n",
    "we are trying to calculate the exponential of a very large number (1e100). However, the result is so large that it causes a floating-point overflow, which raises a FloatingPointError with the message \"math range error\".This will catch the FloatingPointError and print a custom error message instead of the default one.\n"
   ]
  },
  {
   "cell_type": "markdown",
   "id": "701c6442",
   "metadata": {},
   "source": [
    "Ans 4:\n",
    "\n",
    "The LookupError is a built-in exception class in Python that serves as a base class for various lookup-related errors. Some of the errors that are defined in the LookupError class include IndexError, KeyError, and AttributeError.\n",
    "\n",
    "1.KeyError: This error occurs when we try to access a dictionary key that does not exist.\n",
    "\n",
    "import logging\n",
    "logging.basicConfig(filename='error1.log',level=logging.DEBUG)\n",
    "my_dict = {\"apple\": 1, \"banana\": 2, \"orange\": 3}\n",
    "\n",
    "try:\n",
    "    value = my_dict[\"grape\"]\n",
    "    logging.info(value)\n",
    "except KeyError as e:\n",
    "    logging.error(\"Caught an error:{}\".format(e))\n",
    "    \n",
    "When we run this code, we will get a KeyError with the message \"grape\". This error can be caught and handled using a try-except block.This will catch the KeyError and print a custom error message instead of the default one.\n",
    "\n",
    "2.IndexError: This error occurs when we try to access an index in a list, tuple, or other sequence that is out of range. \n",
    "\n",
    "import logging\n",
    "logging.basicConfig(filename='error1.log',level=logging.DEBUG)\n",
    "my_list = [1, 2, 3]\n",
    "\n",
    "try:\n",
    "    value = my_list[3]\n",
    "    logging.info(value)\n",
    "except IndexError as e:\n",
    "    logging.error(\"Caught an error:{}\".format(e))\n",
    "    \n",
    "When we run this code, we will get an IndexError with the message \"list index out of range\". This error can be caught and handled using a try-except block.This will catch the IndexError and print a custom error message instead of the default one."
   ]
  },
  {
   "cell_type": "markdown",
   "id": "e36e96f8",
   "metadata": {},
   "source": [
    "Ans 5:\n",
    "\n",
    "ImportError is a built-in exception in Python that is raised when a module or package cannot be imported for any reason. This error occurs when Python cannot find the specified module, or when there is a problem with the module's code that prevents it from being loaded properly.\n",
    "\n",
    "import my_module\n",
    "\n",
    "When we run this script, we will get an ImportError with the message \"No module named 'my_module'\". This error indicates that Python was not able to find a module with the name my_module.\n",
    "\n",
    "ModuleNotFoundError is a subclass of ImportError that was introduced in Python 3.6. This error is raised when a module or package cannot be found during an import operation. It is essentially a more specific version of ImportError.\n",
    "\n",
    "import my_package\n",
    "When we run this script, we will get a ModuleNotFoundError with the message \"No module named 'my_package'\". This error indicates that Python was not able to find a package with the name my_package."
   ]
  },
  {
   "cell_type": "markdown",
   "id": "d6c5784a",
   "metadata": {},
   "source": [
    "Ans 6:\n",
    "\n",
    "1.Catch the most specific exception possible.\n",
    "2.Keep error messages informative.\n",
    "3.Use finally block when necessary.\n",
    "4.Don't suppress exceptions.\n",
    "5.Raise custom exceptions.\n",
    "6.Avoid catching KeyboardInterrupt.\n",
    "7.Log exceptions.\n",
    "8.Use context managers.\n",
    "9.Keep exception handling simple."
   ]
  },
  {
   "cell_type": "code",
   "execution_count": null,
   "id": "20ced404",
   "metadata": {},
   "outputs": [],
   "source": []
  },
  {
   "cell_type": "code",
   "execution_count": null,
   "id": "25671019",
   "metadata": {},
   "outputs": [],
   "source": []
  },
  {
   "cell_type": "code",
   "execution_count": null,
   "id": "e25d41a6",
   "metadata": {},
   "outputs": [],
   "source": []
  },
  {
   "cell_type": "code",
   "execution_count": null,
   "id": "2f4368d5",
   "metadata": {},
   "outputs": [],
   "source": []
  }
 ],
 "metadata": {
  "kernelspec": {
   "display_name": "Python 3 (ipykernel)",
   "language": "python",
   "name": "python3"
  },
  "language_info": {
   "codemirror_mode": {
    "name": "ipython",
    "version": 3
   },
   "file_extension": ".py",
   "mimetype": "text/x-python",
   "name": "python",
   "nbconvert_exporter": "python",
   "pygments_lexer": "ipython3",
   "version": "3.9.13"
  }
 },
 "nbformat": 4,
 "nbformat_minor": 5
}
